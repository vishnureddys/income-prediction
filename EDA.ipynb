{
 "cells": [
  {
   "cell_type": "markdown",
   "metadata": {},
   "source": [
    "### Importing the data"
   ]
  },
  {
   "cell_type": "code",
   "execution_count": 1,
   "metadata": {},
   "outputs": [],
   "source": [
    "adult <- read.table('https://archive.ics.uci.edu/ml/machine-learning-databases/adult/adult.data', \n",
    "                    sep = ',', fill = F, strip.white = T)\n",
    "colnames(adult) <- c('age', 'workclass', 'fnlwgt', 'education', \n",
    "                     'education_num', 'marital_status', 'occupation', 'relationship', 'race', 'sex', \n",
    "                     'capital_gain', 'capital_loss', 'hours_per_week', 'native_country', 'income')"
   ]
  },
  {
   "cell_type": "markdown",
   "metadata": {},
   "source": [
    "### Removing redundant columns"
   ]
  },
  {
   "cell_type": "code",
   "execution_count": 2,
   "metadata": {},
   "outputs": [],
   "source": [
    "adult$education <- NULL\n",
    "adult$fnlwgt <- NULL\n",
    "adult$relationship <- NULL"
   ]
  },
  {
   "cell_type": "code",
   "execution_count": 3,
   "metadata": {},
   "outputs": [
    {
     "data": {
      "text/html": [
       "<table>\n",
       "<thead><tr><th scope=col>age</th><th scope=col>workclass</th><th scope=col>education_num</th><th scope=col>marital_status</th><th scope=col>occupation</th><th scope=col>race</th><th scope=col>sex</th><th scope=col>capital_gain</th><th scope=col>capital_loss</th><th scope=col>hours_per_week</th><th scope=col>native_country</th><th scope=col>income</th></tr></thead>\n",
       "<tbody>\n",
       "\t<tr><td>39                                                        </td><td><span style=white-space:pre-wrap>State-gov       </span>  </td><td>13                                                        </td><td><span style=white-space:pre-wrap>Never-married     </span></td><td><span style=white-space:pre-wrap>Adm-clerical     </span> </td><td>White                                                     </td><td><span style=white-space:pre-wrap>Male  </span>            </td><td>2174                                                      </td><td>0                                                         </td><td>40                                                        </td><td>United-States                                             </td><td>&lt;=50K                                                  </td></tr>\n",
       "\t<tr><td>50                                                       </td><td>Self-emp-not-inc                                         </td><td>13                                                       </td><td>Married-civ-spouse                                       </td><td><span style=white-space:pre-wrap>Exec-managerial  </span></td><td>White                                                    </td><td><span style=white-space:pre-wrap>Male  </span>           </td><td><span style=white-space:pre-wrap>   0</span>             </td><td>0                                                        </td><td>13                                                       </td><td>United-States                                            </td><td>&lt;=50K                                                 </td></tr>\n",
       "\t<tr><td>38                                                        </td><td><span style=white-space:pre-wrap>Private         </span>  </td><td> 9                                                        </td><td><span style=white-space:pre-wrap>Divorced          </span></td><td>Handlers-cleaners                                         </td><td>White                                                     </td><td><span style=white-space:pre-wrap>Male  </span>            </td><td><span style=white-space:pre-wrap>   0</span>              </td><td>0                                                         </td><td>40                                                        </td><td>United-States                                             </td><td>&lt;=50K                                                  </td></tr>\n",
       "\t<tr><td>53                                                      </td><td><span style=white-space:pre-wrap>Private         </span></td><td> 7                                                      </td><td>Married-civ-spouse                                      </td><td>Handlers-cleaners                                       </td><td>Black                                                   </td><td><span style=white-space:pre-wrap>Male  </span>          </td><td><span style=white-space:pre-wrap>   0</span>            </td><td>0                                                       </td><td>40                                                      </td><td>United-States                                           </td><td>&lt;=50K                                                </td></tr>\n",
       "\t<tr><td>28                                                       </td><td><span style=white-space:pre-wrap>Private         </span> </td><td>13                                                       </td><td>Married-civ-spouse                                       </td><td><span style=white-space:pre-wrap>Prof-specialty   </span></td><td>Black                                                    </td><td>Female                                                   </td><td><span style=white-space:pre-wrap>   0</span>             </td><td>0                                                        </td><td>40                                                       </td><td><span style=white-space:pre-wrap>Cuba         </span>    </td><td>&lt;=50K                                                 </td></tr>\n",
       "\t<tr><td>37                                                       </td><td><span style=white-space:pre-wrap>Private         </span> </td><td>14                                                       </td><td>Married-civ-spouse                                       </td><td><span style=white-space:pre-wrap>Exec-managerial  </span></td><td>White                                                    </td><td>Female                                                   </td><td><span style=white-space:pre-wrap>   0</span>             </td><td>0                                                        </td><td>40                                                       </td><td>United-States                                            </td><td>&lt;=50K                                                 </td></tr>\n",
       "</tbody>\n",
       "</table>\n"
      ],
      "text/latex": [
       "\\begin{tabular}{r|llllllllllll}\n",
       " age & workclass & education\\_num & marital\\_status & occupation & race & sex & capital\\_gain & capital\\_loss & hours\\_per\\_week & native\\_country & income\\\\\n",
       "\\hline\n",
       "\t 39                 & State-gov          & 13                 & Never-married      & Adm-clerical       & White              & Male               & 2174               & 0                  & 40                 & United-States      & <=50K             \\\\\n",
       "\t 50                 & Self-emp-not-inc   & 13                 & Married-civ-spouse & Exec-managerial    & White              & Male               &    0               & 0                  & 13                 & United-States      & <=50K             \\\\\n",
       "\t 38                 & Private            &  9                 & Divorced           & Handlers-cleaners  & White              & Male               &    0               & 0                  & 40                 & United-States      & <=50K             \\\\\n",
       "\t 53                 & Private            &  7                 & Married-civ-spouse & Handlers-cleaners  & Black              & Male               &    0               & 0                  & 40                 & United-States      & <=50K             \\\\\n",
       "\t 28                 & Private            & 13                 & Married-civ-spouse & Prof-specialty     & Black              & Female             &    0               & 0                  & 40                 & Cuba               & <=50K             \\\\\n",
       "\t 37                 & Private            & 14                 & Married-civ-spouse & Exec-managerial    & White              & Female             &    0               & 0                  & 40                 & United-States      & <=50K             \\\\\n",
       "\\end{tabular}\n"
      ],
      "text/markdown": [
       "\n",
       "| age | workclass | education_num | marital_status | occupation | race | sex | capital_gain | capital_loss | hours_per_week | native_country | income |\n",
       "|---|---|---|---|---|---|---|---|---|---|---|---|\n",
       "| 39                 | State-gov          | 13                 | Never-married      | Adm-clerical       | White              | Male               | 2174               | 0                  | 40                 | United-States      | <=50K              |\n",
       "| 50                 | Self-emp-not-inc   | 13                 | Married-civ-spouse | Exec-managerial    | White              | Male               |    0               | 0                  | 13                 | United-States      | <=50K              |\n",
       "| 38                 | Private            |  9                 | Divorced           | Handlers-cleaners  | White              | Male               |    0               | 0                  | 40                 | United-States      | <=50K              |\n",
       "| 53                 | Private            |  7                 | Married-civ-spouse | Handlers-cleaners  | Black              | Male               |    0               | 0                  | 40                 | United-States      | <=50K              |\n",
       "| 28                 | Private            | 13                 | Married-civ-spouse | Prof-specialty     | Black              | Female             |    0               | 0                  | 40                 | Cuba               | <=50K              |\n",
       "| 37                 | Private            | 14                 | Married-civ-spouse | Exec-managerial    | White              | Female             |    0               | 0                  | 40                 | United-States      | <=50K              |\n",
       "\n"
      ],
      "text/plain": [
       "  age workclass        education_num marital_status     occupation        race \n",
       "1 39  State-gov        13            Never-married      Adm-clerical      White\n",
       "2 50  Self-emp-not-inc 13            Married-civ-spouse Exec-managerial   White\n",
       "3 38  Private           9            Divorced           Handlers-cleaners White\n",
       "4 53  Private           7            Married-civ-spouse Handlers-cleaners Black\n",
       "5 28  Private          13            Married-civ-spouse Prof-specialty    Black\n",
       "6 37  Private          14            Married-civ-spouse Exec-managerial   White\n",
       "  sex    capital_gain capital_loss hours_per_week native_country income\n",
       "1 Male   2174         0            40             United-States  <=50K \n",
       "2 Male      0         0            13             United-States  <=50K \n",
       "3 Male      0         0            40             United-States  <=50K \n",
       "4 Male      0         0            40             United-States  <=50K \n",
       "5 Female    0         0            40             Cuba           <=50K \n",
       "6 Female    0         0            40             United-States  <=50K "
      ]
     },
     "metadata": {},
     "output_type": "display_data"
    }
   ],
   "source": [
    "head(adult)"
   ]
  },
  {
   "cell_type": "markdown",
   "metadata": {},
   "source": [
    "### Analyzing each column with the income"
   ]
  },
  {
   "cell_type": "code",
   "execution_count": 4,
   "metadata": {},
   "outputs": [
    {
     "name": "stderr",
     "output_type": "stream",
     "text": [
      "Warning message:\n",
      "\"package 'ggplot2' was built under R version 3.6.3\"Warning message:\n",
      "\"package 'plyr' was built under R version 3.6.3\""
     ]
    }
   ],
   "source": [
    "# Importing the libraries needed for this\n",
    "library(ggplot2)\n",
    "library(plyr)"
   ]
  },
  {
   "cell_type": "markdown",
   "metadata": {},
   "source": [
    "### Age vs Income"
   ]
  },
  {
   "cell_type": "code",
   "execution_count": 5,
   "metadata": {},
   "outputs": [
    {
     "data": {
      "image/png": "[encoded data removed]",
      "text/plain": [
       "plot without title"
      ]
     },
     "metadata": {},
     "output_type": "display_data"
    }
   ],
   "source": [
    "ggplot(adult) + aes(x=as.numeric(age), group=income, fill=income) + \n",
    "  geom_histogram(binwidth=1, color='black')"
   ]
  },
  {
   "cell_type": "markdown",
   "metadata": {},
   "source": [
    "### Gender vs Income"
   ]
  },
  {
   "cell_type": "code",
   "execution_count": 6,
   "metadata": {},
   "outputs": [
    {
     "data": {
      "image/png": "[encoded data removed]",
      "text/plain": [
       "plot without title"
      ]
     },
     "metadata": {},
     "output_type": "display_data"
    }
   ],
   "source": [
    "ggplot(adult) + aes(x=as.numeric(age), group=sex, fill=sex) + \n",
    "  geom_histogram(binwidth=1, color='black')"
   ]
  },
  {
   "cell_type": "markdown",
   "metadata": {},
   "source": [
    "### Working Class vs Income"
   ]
  },
  {
   "cell_type": "code",
   "execution_count": 7,
   "metadata": {},
   "outputs": [
    {
     "data": {
      "text/html": [
       "<dl class=dl-horizontal>\n",
       "\t<dt>?</dt>\n",
       "\t\t<dd>1836</dd>\n",
       "\t<dt>Federal-gov</dt>\n",
       "\t\t<dd>960</dd>\n",
       "\t<dt>Local-gov</dt>\n",
       "\t\t<dd>2093</dd>\n",
       "\t<dt>Never-worked</dt>\n",
       "\t\t<dd>7</dd>\n",
       "\t<dt>Private</dt>\n",
       "\t\t<dd>22696</dd>\n",
       "\t<dt>Self-emp-inc</dt>\n",
       "\t\t<dd>1116</dd>\n",
       "\t<dt>Self-emp-not-inc</dt>\n",
       "\t\t<dd>2541</dd>\n",
       "\t<dt>State-gov</dt>\n",
       "\t\t<dd>1298</dd>\n",
       "\t<dt>Without-pay</dt>\n",
       "\t\t<dd>14</dd>\n",
       "</dl>\n"
      ],
      "text/latex": [
       "\\begin{description*}\n",
       "\\item[?] 1836\n",
       "\\item[Federal-gov] 960\n",
       "\\item[Local-gov] 2093\n",
       "\\item[Never-worked] 7\n",
       "\\item[Private] 22696\n",
       "\\item[Self-emp-inc] 1116\n",
       "\\item[Self-emp-not-inc] 2541\n",
       "\\item[State-gov] 1298\n",
       "\\item[Without-pay] 14\n",
       "\\end{description*}\n"
      ],
      "text/markdown": [
       "?\n",
       ":   1836Federal-gov\n",
       ":   960Local-gov\n",
       ":   2093Never-worked\n",
       ":   7Private\n",
       ":   22696Self-emp-inc\n",
       ":   1116Self-emp-not-inc\n",
       ":   2541State-gov\n",
       ":   1298Without-pay\n",
       ":   14\n",
       "\n"
      ],
      "text/plain": [
       "               ?      Federal-gov        Local-gov     Never-worked \n",
       "            1836              960             2093                7 \n",
       "         Private     Self-emp-inc Self-emp-not-inc        State-gov \n",
       "           22696             1116             2541             1298 \n",
       "     Without-pay \n",
       "              14 "
      ]
     },
     "metadata": {},
     "output_type": "display_data"
    }
   ],
   "source": [
    "summary(adult$workclass)"
   ]
  },
  {
   "cell_type": "markdown",
   "metadata": {},
   "source": [
    "#### What we do next is convert them into 4 main types of classes."
   ]
  },
  {
   "cell_type": "code",
   "execution_count": 8,
   "metadata": {},
   "outputs": [],
   "source": [
    "levels(adult$workclass)[1] <- 'Unknown'\n",
    "# combine into Government job\n",
    "adult$workclass <- gsub('^Federal-gov', 'Government', adult$workclass)\n",
    "adult$workclass <- gsub('^Local-gov', 'Government', adult$workclass)\n",
    "adult$workclass <- gsub('^State-gov', 'Government', adult$workclass) \n",
    "\n",
    "# combine into Sele-Employed job\n",
    "adult$workclass <- gsub('^Self-emp-inc', 'Self-Employed', adult$workclass)\n",
    "adult$workclass <- gsub('^Self-emp-not-inc', 'Self-Employed', adult$workclass)\n",
    "\n",
    "# combine into Other/Unknown\n",
    "adult$workclass <- gsub('^Never-worked', 'Other', adult$workclass)\n",
    "adult$workclass <- gsub('^Without-pay', 'Other', adult$workclass)\n",
    "adult$workclass <- gsub('^Other', 'Other/Unknown', adult$workclass)\n",
    "adult$workclass <- gsub('^Unknown', 'Other/Unknown', adult$workclass)\n",
    "\n",
    "adult$workclass <- as.factor(adult$workclass)"
   ]
  },
  {
   "cell_type": "code",
   "execution_count": 9,
   "metadata": {},
   "outputs": [
    {
     "data": {
      "text/plain": [
       "\n",
       "   Government Other/Unknown       Private Self-Employed \n",
       "         4351          1857         22696          3657 "
      ]
     },
     "metadata": {},
     "output_type": "display_data"
    }
   ],
   "source": [
    "table(adult$workclass)"
   ]
  },
  {
   "cell_type": "code",
   "execution_count": 10,
   "metadata": {},
   "outputs": [
    {
     "data": {
      "text/html": [
       "<table>\n",
       "<thead><tr><th scope=col>industry</th><th scope=col>income</th><th scope=col>count</th></tr></thead>\n",
       "<tbody>\n",
       "\t<tr><td><span style=white-space:pre-wrap>Government   </span></td><td>&lt;=50K                                             </td><td> 3010                                                </td></tr>\n",
       "\t<tr><td><span style=white-space:pre-wrap>Government   </span></td><td>&gt;50K                                              </td><td> 1341                                                </td></tr>\n",
       "\t<tr><td>Other/Unknown</td><td>&lt;=50K     </td><td> 1666        </td></tr>\n",
       "\t<tr><td>Other/Unknown                                </td><td>&gt;50K                                      </td><td><span style=white-space:pre-wrap>  191</span></td></tr>\n",
       "\t<tr><td><span style=white-space:pre-wrap>Private      </span></td><td>&lt;=50K                                             </td><td>17733                                                </td></tr>\n",
       "\t<tr><td><span style=white-space:pre-wrap>Private      </span></td><td>&gt;50K                                              </td><td> 4963                                                </td></tr>\n",
       "\t<tr><td>Self-Employed</td><td>&lt;=50K     </td><td> 2311        </td></tr>\n",
       "\t<tr><td>Self-Employed</td><td>&gt;50K      </td><td> 1346        </td></tr>\n",
       "</tbody>\n",
       "</table>\n"
      ],
      "text/latex": [
       "\\begin{tabular}{r|lll}\n",
       " industry & income & count\\\\\n",
       "\\hline\n",
       "\t Government    & <=50K         &  3010        \\\\\n",
       "\t Government    & >50K          &  1341        \\\\\n",
       "\t Other/Unknown & <=50K         &  1666        \\\\\n",
       "\t Other/Unknown & >50K          &   191        \\\\\n",
       "\t Private       & <=50K         & 17733        \\\\\n",
       "\t Private       & >50K          &  4963        \\\\\n",
       "\t Self-Employed & <=50K         &  2311        \\\\\n",
       "\t Self-Employed & >50K          &  1346        \\\\\n",
       "\\end{tabular}\n"
      ],
      "text/markdown": [
       "\n",
       "| industry | income | count |\n",
       "|---|---|---|\n",
       "| Government    | <=50K         |  3010         |\n",
       "| Government    | >50K          |  1341         |\n",
       "| Other/Unknown | <=50K         |  1666         |\n",
       "| Other/Unknown | >50K          |   191         |\n",
       "| Private       | <=50K         | 17733         |\n",
       "| Private       | >50K          |  4963         |\n",
       "| Self-Employed | <=50K         |  2311         |\n",
       "| Self-Employed | >50K          |  1346         |\n",
       "\n"
      ],
      "text/plain": [
       "  industry      income count\n",
       "1 Government    <=50K   3010\n",
       "2 Government    >50K    1341\n",
       "3 Other/Unknown <=50K   1666\n",
       "4 Other/Unknown >50K     191\n",
       "5 Private       <=50K  17733\n",
       "6 Private       >50K    4963\n",
       "7 Self-Employed <=50K   2311\n",
       "8 Self-Employed >50K    1346"
      ]
     },
     "metadata": {},
     "output_type": "display_data"
    }
   ],
   "source": [
    "# barplot of job type by income group\n",
    "# get the counts by industry and income group\n",
    "count <- table(adult[adult$workclass == 'Government',]$income)[\"<=50K\"]\n",
    "count <- c(count, table(adult[adult$workclass == 'Government',]$income)[\">50K\"])\n",
    "count <- c(count, table(adult[adult$workclass == 'Other/Unknown',]$income)[\"<=50K\"])\n",
    "count <- c(count, table(adult[adult$workclass == 'Other/Unknown',]$income)[\">50K\"])\n",
    "count <- c(count, table(adult[adult$workclass == 'Private',]$income)[\"<=50K\"])\n",
    "count <- c(count, table(adult[adult$workclass == 'Private',]$income)[\">50K\"])\n",
    "count <- c(count, table(adult[adult$workclass == 'Self-Employed',]$income)[\"<=50K\"])\n",
    "count <- c(count, table(adult[adult$workclass == 'Self-Employed',]$income)[\">50K\"])\n",
    "count <- as.numeric(count)\n",
    "\n",
    "# create a dataframe\n",
    "industry <- rep(levels(adult$workclass), each = 2)\n",
    "income <- rep(c('<=50K', '>50K'), 4)\n",
    "df <- data.frame(industry, income, count)\n",
    "df"
   ]
  },
  {
   "cell_type": "code",
   "execution_count": 11,
   "metadata": {
    "scrolled": false
   },
   "outputs": [
    {
     "data": {
      "image/png": "[encoded data removed]",
      "text/plain": [
       "plot without title"
      ]
     },
     "metadata": {},
     "output_type": "display_data"
    }
   ],
   "source": [
    "# calculate the percentages\n",
    "df <- ddply(df, .(industry), transform, percent = count/sum(count) * 100)\n",
    "\n",
    "# bar plot of counts by industry with in group proportions \n",
    "ggplot(df, aes(x = industry, y = count, fill = income)) +\n",
    "  geom_bar(stat=\"identity\") +\n",
    "  ggtitle('Income by Industry')"
   ]
  },
  {
   "cell_type": "markdown",
   "metadata": {},
   "source": [
    "### Income vs Number of years of Education"
   ]
  },
  {
   "cell_type": "code",
   "execution_count": 12,
   "metadata": {},
   "outputs": [
    {
     "data": {
      "text/html": [
       "<table>\n",
       "<thead><tr><th scope=col>income</th><th scope=col>education_num</th><th scope=col>count</th></tr></thead>\n",
       "<tbody>\n",
       "\t<tr><td>&lt;=50K                                    </td><td>1                                           </td><td><span style=white-space:pre-wrap>  51</span></td></tr>\n",
       "\t<tr><td>&gt;50K                                     </td><td>1                                           </td><td><span style=white-space:pre-wrap>   0</span></td></tr>\n",
       "\t<tr><td>&lt;=50K</td><td>2       </td><td> 162    </td></tr>\n",
       "\t<tr><td>&gt;50K                                     </td><td>2                                           </td><td><span style=white-space:pre-wrap>   6</span></td></tr>\n",
       "\t<tr><td>&lt;=50K</td><td>3       </td><td> 317    </td></tr>\n",
       "\t<tr><td>&gt;50K                                     </td><td>3                                           </td><td><span style=white-space:pre-wrap>  16</span></td></tr>\n",
       "\t<tr><td>&lt;=50K</td><td>4       </td><td> 606    </td></tr>\n",
       "\t<tr><td>&gt;50K                                     </td><td>4                                           </td><td><span style=white-space:pre-wrap>  40</span></td></tr>\n",
       "\t<tr><td>&lt;=50K</td><td>5       </td><td> 487    </td></tr>\n",
       "\t<tr><td>&gt;50K                                     </td><td>5                                           </td><td><span style=white-space:pre-wrap>  27</span></td></tr>\n",
       "\t<tr><td>&lt;=50K</td><td>6       </td><td> 871    </td></tr>\n",
       "\t<tr><td>&gt;50K                                     </td><td>6                                           </td><td><span style=white-space:pre-wrap>  62</span></td></tr>\n",
       "\t<tr><td>&lt;=50K</td><td>7       </td><td>1115    </td></tr>\n",
       "\t<tr><td>&gt;50K                                     </td><td>7                                           </td><td><span style=white-space:pre-wrap>  60</span></td></tr>\n",
       "\t<tr><td>&lt;=50K</td><td>8       </td><td> 400    </td></tr>\n",
       "\t<tr><td>&gt;50K                                     </td><td>8                                           </td><td><span style=white-space:pre-wrap>  33</span></td></tr>\n",
       "\t<tr><td>&lt;=50K</td><td>9       </td><td>8826    </td></tr>\n",
       "\t<tr><td>&gt;50K </td><td>9       </td><td>1675    </td></tr>\n",
       "\t<tr><td>&lt;=50K</td><td>10      </td><td>5904    </td></tr>\n",
       "\t<tr><td>&gt;50K </td><td>10      </td><td>1387    </td></tr>\n",
       "\t<tr><td>&lt;=50K</td><td>11      </td><td>1021    </td></tr>\n",
       "\t<tr><td>&gt;50K </td><td>11      </td><td> 361    </td></tr>\n",
       "\t<tr><td>&lt;=50K</td><td>12      </td><td> 802    </td></tr>\n",
       "\t<tr><td>&gt;50K </td><td>12      </td><td> 265    </td></tr>\n",
       "\t<tr><td>&lt;=50K</td><td>13      </td><td>3134    </td></tr>\n",
       "\t<tr><td>&gt;50K </td><td>13      </td><td>2221    </td></tr>\n",
       "\t<tr><td>&lt;=50K</td><td>14      </td><td> 764    </td></tr>\n",
       "\t<tr><td>&gt;50K </td><td>14      </td><td> 959    </td></tr>\n",
       "\t<tr><td>&lt;=50K</td><td>15      </td><td> 153    </td></tr>\n",
       "\t<tr><td>&gt;50K </td><td>15      </td><td> 423    </td></tr>\n",
       "\t<tr><td>&lt;=50K</td><td>16      </td><td> 107    </td></tr>\n",
       "\t<tr><td>&gt;50K </td><td>16      </td><td> 306    </td></tr>\n",
       "</tbody>\n",
       "</table>\n"
      ],
      "text/latex": [
       "\\begin{tabular}{r|lll}\n",
       " income & education\\_num & count\\\\\n",
       "\\hline\n",
       "\t <=50K & 1     &   51 \\\\\n",
       "\t >50K  & 1     &    0 \\\\\n",
       "\t <=50K & 2     &  162 \\\\\n",
       "\t >50K  & 2     &    6 \\\\\n",
       "\t <=50K & 3     &  317 \\\\\n",
       "\t >50K  & 3     &   16 \\\\\n",
       "\t <=50K & 4     &  606 \\\\\n",
       "\t >50K  & 4     &   40 \\\\\n",
       "\t <=50K & 5     &  487 \\\\\n",
       "\t >50K  & 5     &   27 \\\\\n",
       "\t <=50K & 6     &  871 \\\\\n",
       "\t >50K  & 6     &   62 \\\\\n",
       "\t <=50K & 7     & 1115 \\\\\n",
       "\t >50K  & 7     &   60 \\\\\n",
       "\t <=50K & 8     &  400 \\\\\n",
       "\t >50K  & 8     &   33 \\\\\n",
       "\t <=50K & 9     & 8826 \\\\\n",
       "\t >50K  & 9     & 1675 \\\\\n",
       "\t <=50K & 10    & 5904 \\\\\n",
       "\t >50K  & 10    & 1387 \\\\\n",
       "\t <=50K & 11    & 1021 \\\\\n",
       "\t >50K  & 11    &  361 \\\\\n",
       "\t <=50K & 12    &  802 \\\\\n",
       "\t >50K  & 12    &  265 \\\\\n",
       "\t <=50K & 13    & 3134 \\\\\n",
       "\t >50K  & 13    & 2221 \\\\\n",
       "\t <=50K & 14    &  764 \\\\\n",
       "\t >50K  & 14    &  959 \\\\\n",
       "\t <=50K & 15    &  153 \\\\\n",
       "\t >50K  & 15    &  423 \\\\\n",
       "\t <=50K & 16    &  107 \\\\\n",
       "\t >50K  & 16    &  306 \\\\\n",
       "\\end{tabular}\n"
      ],
      "text/markdown": [
       "\n",
       "| income | education_num | count |\n",
       "|---|---|---|\n",
       "| <=50K | 1     |   51  |\n",
       "| >50K  | 1     |    0  |\n",
       "| <=50K | 2     |  162  |\n",
       "| >50K  | 2     |    6  |\n",
       "| <=50K | 3     |  317  |\n",
       "| >50K  | 3     |   16  |\n",
       "| <=50K | 4     |  606  |\n",
       "| >50K  | 4     |   40  |\n",
       "| <=50K | 5     |  487  |\n",
       "| >50K  | 5     |   27  |\n",
       "| <=50K | 6     |  871  |\n",
       "| >50K  | 6     |   62  |\n",
       "| <=50K | 7     | 1115  |\n",
       "| >50K  | 7     |   60  |\n",
       "| <=50K | 8     |  400  |\n",
       "| >50K  | 8     |   33  |\n",
       "| <=50K | 9     | 8826  |\n",
       "| >50K  | 9     | 1675  |\n",
       "| <=50K | 10    | 5904  |\n",
       "| >50K  | 10    | 1387  |\n",
       "| <=50K | 11    | 1021  |\n",
       "| >50K  | 11    |  361  |\n",
       "| <=50K | 12    |  802  |\n",
       "| >50K  | 12    |  265  |\n",
       "| <=50K | 13    | 3134  |\n",
       "| >50K  | 13    | 2221  |\n",
       "| <=50K | 14    |  764  |\n",
       "| >50K  | 14    |  959  |\n",
       "| <=50K | 15    |  153  |\n",
       "| >50K  | 15    |  423  |\n",
       "| <=50K | 16    |  107  |\n",
       "| >50K  | 16    |  306  |\n",
       "\n"
      ],
      "text/plain": [
       "   income education_num count\n",
       "1  <=50K  1               51 \n",
       "2  >50K   1                0 \n",
       "3  <=50K  2              162 \n",
       "4  >50K   2                6 \n",
       "5  <=50K  3              317 \n",
       "6  >50K   3               16 \n",
       "7  <=50K  4              606 \n",
       "8  >50K   4               40 \n",
       "9  <=50K  5              487 \n",
       "10 >50K   5               27 \n",
       "11 <=50K  6              871 \n",
       "12 >50K   6               62 \n",
       "13 <=50K  7             1115 \n",
       "14 >50K   7               60 \n",
       "15 <=50K  8              400 \n",
       "16 >50K   8               33 \n",
       "17 <=50K  9             8826 \n",
       "18 >50K   9             1675 \n",
       "19 <=50K  10            5904 \n",
       "20 >50K   10            1387 \n",
       "21 <=50K  11            1021 \n",
       "22 >50K   11             361 \n",
       "23 <=50K  12             802 \n",
       "24 >50K   12             265 \n",
       "25 <=50K  13            3134 \n",
       "26 >50K   13            2221 \n",
       "27 <=50K  14             764 \n",
       "28 >50K   14             959 \n",
       "29 <=50K  15             153 \n",
       "30 >50K   15             423 \n",
       "31 <=50K  16             107 \n",
       "32 >50K   16             306 "
      ]
     },
     "metadata": {},
     "output_type": "display_data"
    }
   ],
   "source": [
    "# create a dataframe\n",
    "df1 <- data.frame(table(adult$income, adult$education_num))\n",
    "names(df1) <- c('income', 'education_num', 'count')\n",
    "df1"
   ]
  },
  {
   "cell_type": "code",
   "execution_count": 13,
   "metadata": {},
   "outputs": [
    {
     "data": {
      "image/png": "[encoded data removed]",
      "text/plain": [
       "plot without title"
      ]
     },
     "metadata": {},
     "output_type": "display_data"
    }
   ],
   "source": [
    "# calculate the percentages\n",
    "df1 <- ddply(df1, .(education_num), transform, percent = count/sum(count) * 100)\n",
    "\n",
    "\n",
    "# bar plot of counts by years of education with in group proportions \n",
    "ggplot(df1, aes(x = education_num, y = count, fill = income)) +\n",
    "  geom_bar(stat = \"identity\") +\n",
    "  ggtitle('Income Level with Years of Education')"
   ]
  },
  {
   "cell_type": "markdown",
   "metadata": {},
   "source": [
    "### Income based on class of Occupation"
   ]
  },
  {
   "cell_type": "code",
   "execution_count": 14,
   "metadata": {},
   "outputs": [
    {
     "data": {
      "text/plain": [
       "\n",
       "                ?      Adm-clerical      Armed-Forces      Craft-repair \n",
       "             1843              3770                 9              4099 \n",
       "  Exec-managerial   Farming-fishing Handlers-cleaners Machine-op-inspct \n",
       "             4066               994              1370              2002 \n",
       "    Other-service   Priv-house-serv    Prof-specialty   Protective-serv \n",
       "             3295               149              4140               649 \n",
       "            Sales      Tech-support  Transport-moving \n",
       "             3650               928              1597 "
      ]
     },
     "metadata": {},
     "output_type": "display_data"
    }
   ],
   "source": [
    "table(adult$occupation)"
   ]
  },
  {
   "cell_type": "markdown",
   "metadata": {},
   "source": [
    "#### Combining the occupation classes in Blue-collar, professional, sales, service and white collar."
   ]
  },
  {
   "cell_type": "code",
   "execution_count": 15,
   "metadata": {},
   "outputs": [
    {
     "data": {
      "text/html": [
       "<dl class=dl-horizontal>\n",
       "\t<dt>Blue-Collar</dt>\n",
       "\t\t<dd>10062</dd>\n",
       "\t<dt>Other/Unknown</dt>\n",
       "\t\t<dd>1852</dd>\n",
       "\t<dt>Professional</dt>\n",
       "\t\t<dd>4140</dd>\n",
       "\t<dt>Sales</dt>\n",
       "\t\t<dd>3650</dd>\n",
       "\t<dt>Service</dt>\n",
       "\t\t<dd>5021</dd>\n",
       "\t<dt>White-Collar</dt>\n",
       "\t\t<dd>7836</dd>\n",
       "</dl>\n"
      ],
      "text/latex": [
       "\\begin{description*}\n",
       "\\item[Blue-Collar] 10062\n",
       "\\item[Other/Unknown] 1852\n",
       "\\item[Professional] 4140\n",
       "\\item[Sales] 3650\n",
       "\\item[Service] 5021\n",
       "\\item[White-Collar] 7836\n",
       "\\end{description*}\n"
      ],
      "text/markdown": [
       "Blue-Collar\n",
       ":   10062Other/Unknown\n",
       ":   1852Professional\n",
       ":   4140Sales\n",
       ":   3650Service\n",
       ":   5021White-Collar\n",
       ":   7836\n",
       "\n"
      ],
      "text/plain": [
       "  Blue-Collar Other/Unknown  Professional         Sales       Service \n",
       "        10062          1852          4140          3650          5021 \n",
       " White-Collar \n",
       "         7836 "
      ]
     },
     "metadata": {},
     "output_type": "display_data"
    }
   ],
   "source": [
    "levels(adult$occupation)[1] <- 'Unknown'\n",
    "adult$occupation <- gsub('Adm-clerical', 'White-Collar', adult$occupation)\n",
    "adult$occupation <- gsub('Craft-repair', 'Blue-Collar', adult$occupation)\n",
    "adult$occupation <- gsub('Exec-managerial', 'White-Collar', adult$occupation)\n",
    "adult$occupation <- gsub('Farming-fishing', 'Blue-Collar', adult$occupation)\n",
    "adult$occupation <- gsub('Handlers-cleaners', 'Blue-Collar', adult$occupation)\n",
    "adult$occupation <- gsub('Machine-op-inspct', 'Blue-Collar', adult$occupation)\n",
    "adult$occupation <- gsub('Other-service', 'Service', adult$occupation)\n",
    "adult$occupation <- gsub('Priv-house-serv', 'Service', adult$occupation)\n",
    "adult$occupation <- gsub('Prof-specialty', 'Professional', adult$occupation)\n",
    "adult$occupation <- gsub('Protective-serv', 'Service', adult$occupation)\n",
    "adult$occupation <- gsub('Tech-support', 'Service', adult$occupation)\n",
    "adult$occupation <- gsub('Transport-moving', 'Blue-Collar', adult$occupation)\n",
    "adult$occupation <- gsub('Unknown', 'Other/Unknown', adult$occupation)\n",
    "adult$occupation <- gsub('Armed-Forces', 'Other/Unknown', adult$occupation)\n",
    "adult$occupation <- as.factor(adult$occupation)\n",
    "summary(adult$occupation)"
   ]
  },
  {
   "cell_type": "code",
   "execution_count": 16,
   "metadata": {},
   "outputs": [
    {
     "data": {
      "text/html": [
       "<table>\n",
       "<thead><tr><th scope=col>income</th><th scope=col>occupation</th><th scope=col>count</th></tr></thead>\n",
       "<tbody>\n",
       "\t<tr><td>&lt;=50K                                             </td><td><span style=white-space:pre-wrap>Blue-Collar  </span></td><td>8362                                                 </td></tr>\n",
       "\t<tr><td>&gt;50K                                              </td><td><span style=white-space:pre-wrap>Blue-Collar  </span></td><td>1700                                                 </td></tr>\n",
       "\t<tr><td>&lt;=50K     </td><td>Other/Unknown</td><td>1660         </td></tr>\n",
       "\t<tr><td>&gt;50K      </td><td>Other/Unknown</td><td> 192         </td></tr>\n",
       "\t<tr><td>&lt;=50K     </td><td>Professional </td><td>2281         </td></tr>\n",
       "\t<tr><td>&gt;50K      </td><td>Professional </td><td>1859         </td></tr>\n",
       "\t<tr><td>&lt;=50K                                             </td><td><span style=white-space:pre-wrap>Sales        </span></td><td>2667                                                 </td></tr>\n",
       "\t<tr><td>&gt;50K                                              </td><td><span style=white-space:pre-wrap>Sales        </span></td><td> 983                                                 </td></tr>\n",
       "\t<tr><td>&lt;=50K                                             </td><td><span style=white-space:pre-wrap>Service      </span></td><td>4389                                                 </td></tr>\n",
       "\t<tr><td>&gt;50K                                              </td><td><span style=white-space:pre-wrap>Service      </span></td><td> 632                                                 </td></tr>\n",
       "\t<tr><td>&lt;=50K     </td><td>White-Collar </td><td>5361         </td></tr>\n",
       "\t<tr><td>&gt;50K      </td><td>White-Collar </td><td>2475         </td></tr>\n",
       "</tbody>\n",
       "</table>\n"
      ],
      "text/latex": [
       "\\begin{tabular}{r|lll}\n",
       " income & occupation & count\\\\\n",
       "\\hline\n",
       "\t <=50K         & Blue-Collar   & 8362         \\\\\n",
       "\t >50K          & Blue-Collar   & 1700         \\\\\n",
       "\t <=50K         & Other/Unknown & 1660         \\\\\n",
       "\t >50K          & Other/Unknown &  192         \\\\\n",
       "\t <=50K         & Professional  & 2281         \\\\\n",
       "\t >50K          & Professional  & 1859         \\\\\n",
       "\t <=50K         & Sales         & 2667         \\\\\n",
       "\t >50K          & Sales         &  983         \\\\\n",
       "\t <=50K         & Service       & 4389         \\\\\n",
       "\t >50K          & Service       &  632         \\\\\n",
       "\t <=50K         & White-Collar  & 5361         \\\\\n",
       "\t >50K          & White-Collar  & 2475         \\\\\n",
       "\\end{tabular}\n"
      ],
      "text/markdown": [
       "\n",
       "| income | occupation | count |\n",
       "|---|---|---|\n",
       "| <=50K         | Blue-Collar   | 8362          |\n",
       "| >50K          | Blue-Collar   | 1700          |\n",
       "| <=50K         | Other/Unknown | 1660          |\n",
       "| >50K          | Other/Unknown |  192          |\n",
       "| <=50K         | Professional  | 2281          |\n",
       "| >50K          | Professional  | 1859          |\n",
       "| <=50K         | Sales         | 2667          |\n",
       "| >50K          | Sales         |  983          |\n",
       "| <=50K         | Service       | 4389          |\n",
       "| >50K          | Service       |  632          |\n",
       "| <=50K         | White-Collar  | 5361          |\n",
       "| >50K          | White-Collar  | 2475          |\n",
       "\n"
      ],
      "text/plain": [
       "   income occupation    count\n",
       "1  <=50K  Blue-Collar   8362 \n",
       "2  >50K   Blue-Collar   1700 \n",
       "3  <=50K  Other/Unknown 1660 \n",
       "4  >50K   Other/Unknown  192 \n",
       "5  <=50K  Professional  2281 \n",
       "6  >50K   Professional  1859 \n",
       "7  <=50K  Sales         2667 \n",
       "8  >50K   Sales          983 \n",
       "9  <=50K  Service       4389 \n",
       "10 >50K   Service        632 \n",
       "11 <=50K  White-Collar  5361 \n",
       "12 >50K   White-Collar  2475 "
      ]
     },
     "metadata": {},
     "output_type": "display_data"
    }
   ],
   "source": [
    "# create a dataframe\n",
    "df2 <- data.frame(table(adult$income, adult$occupation))\n",
    "names(df2) <- c('income', 'occupation', 'count')\n",
    "df2"
   ]
  },
  {
   "cell_type": "code",
   "execution_count": 17,
   "metadata": {},
   "outputs": [
    {
     "data": {
      "image/png": "[encoded data removed]",
      "text/plain": [
       "plot without title"
      ]
     },
     "metadata": {},
     "output_type": "display_data"
    }
   ],
   "source": [
    "# calculate the percentages\n",
    "df2 <- ddply(df2, .(occupation), transform, percent = count/sum(count) * 100)\n",
    "\n",
    "# bar plot of counts by occupation with in group proportions \n",
    "ggplot(df2, aes(x = occupation, y = count, fill = income)) +\n",
    "  geom_bar(stat = \"identity\") +\n",
    "  ggtitle('Income Level with Different Occupations')"
   ]
  },
  {
   "cell_type": "markdown",
   "metadata": {},
   "source": [
    "### Income vs Marital Status"
   ]
  },
  {
   "cell_type": "code",
   "execution_count": 18,
   "metadata": {},
   "outputs": [
    {
     "data": {
      "text/html": [
       "<dl class=dl-horizontal>\n",
       "\t<dt>Divorced</dt>\n",
       "\t\t<dd>4443</dd>\n",
       "\t<dt>Married-AF-spouse</dt>\n",
       "\t\t<dd>23</dd>\n",
       "\t<dt>Married-civ-spouse</dt>\n",
       "\t\t<dd>14976</dd>\n",
       "\t<dt>Married-spouse-absent</dt>\n",
       "\t\t<dd>418</dd>\n",
       "\t<dt>Never-married</dt>\n",
       "\t\t<dd>10683</dd>\n",
       "\t<dt>Separated</dt>\n",
       "\t\t<dd>1025</dd>\n",
       "\t<dt>Widowed</dt>\n",
       "\t\t<dd>993</dd>\n",
       "</dl>\n"
      ],
      "text/latex": [
       "\\begin{description*}\n",
       "\\item[Divorced] 4443\n",
       "\\item[Married-AF-spouse] 23\n",
       "\\item[Married-civ-spouse] 14976\n",
       "\\item[Married-spouse-absent] 418\n",
       "\\item[Never-married] 10683\n",
       "\\item[Separated] 1025\n",
       "\\item[Widowed] 993\n",
       "\\end{description*}\n"
      ],
      "text/markdown": [
       "Divorced\n",
       ":   4443Married-AF-spouse\n",
       ":   23Married-civ-spouse\n",
       ":   14976Married-spouse-absent\n",
       ":   418Never-married\n",
       ":   10683Separated\n",
       ":   1025Widowed\n",
       ":   993\n",
       "\n"
      ],
      "text/plain": [
       "             Divorced     Married-AF-spouse    Married-civ-spouse \n",
       "                 4443                    23                 14976 \n",
       "Married-spouse-absent         Never-married             Separated \n",
       "                  418                 10683                  1025 \n",
       "              Widowed \n",
       "                  993 "
      ]
     },
     "metadata": {},
     "output_type": "display_data"
    }
   ],
   "source": [
    "summary(adult$marital_status)"
   ]
  },
  {
   "cell_type": "code",
   "execution_count": 19,
   "metadata": {},
   "outputs": [
    {
     "data": {
      "text/html": [
       "<dl class=dl-horizontal>\n",
       "\t<dt>Divorced</dt>\n",
       "\t\t<dd>4443</dd>\n",
       "\t<dt>Married</dt>\n",
       "\t\t<dd>15417</dd>\n",
       "\t<dt>Separated</dt>\n",
       "\t\t<dd>1025</dd>\n",
       "\t<dt>Single</dt>\n",
       "\t\t<dd>10683</dd>\n",
       "\t<dt>Widowed</dt>\n",
       "\t\t<dd>993</dd>\n",
       "</dl>\n"
      ],
      "text/latex": [
       "\\begin{description*}\n",
       "\\item[Divorced] 4443\n",
       "\\item[Married] 15417\n",
       "\\item[Separated] 1025\n",
       "\\item[Single] 10683\n",
       "\\item[Widowed] 993\n",
       "\\end{description*}\n"
      ],
      "text/markdown": [
       "Divorced\n",
       ":   4443Married\n",
       ":   15417Separated\n",
       ":   1025Single\n",
       ":   10683Widowed\n",
       ":   993\n",
       "\n"
      ],
      "text/plain": [
       " Divorced   Married Separated    Single   Widowed \n",
       "     4443     15417      1025     10683       993 "
      ]
     },
     "metadata": {},
     "output_type": "display_data"
    }
   ],
   "source": [
    "adult$marital_status <- gsub('Married-AF-spouse', 'Married', adult$marital_status)\n",
    "adult$marital_status <- gsub('Married-civ-spouse', 'Married', adult$marital_status)\n",
    "adult$marital_status <- gsub('Married-spouse-absent', 'Married', adult$marital_status)\n",
    "adult$marital_status <- gsub('Never-married', 'Single', adult$marital_status)\n",
    "adult$marital_status <- as.factor(adult$marital_status)\n",
    "summary(adult$marital_status)"
   ]
  },
  {
   "cell_type": "code",
   "execution_count": 20,
   "metadata": {},
   "outputs": [
    {
     "data": {
      "text/html": [
       "<table>\n",
       "<thead><tr><th scope=col>income</th><th scope=col>marital_status</th><th scope=col>count</th></tr></thead>\n",
       "<tbody>\n",
       "\t<tr><td>&lt;=50K </td><td>Divorced </td><td> 3980    </td></tr>\n",
       "\t<tr><td>&gt;50K                                      </td><td>Divorced                                     </td><td><span style=white-space:pre-wrap>  463</span></td></tr>\n",
       "\t<tr><td>&lt;=50K                                         </td><td><span style=white-space:pre-wrap>Married  </span></td><td> 8681                                            </td></tr>\n",
       "\t<tr><td>&gt;50K                                          </td><td><span style=white-space:pre-wrap>Married  </span></td><td> 6736                                            </td></tr>\n",
       "\t<tr><td>&lt;=50K                                     </td><td>Separated                                    </td><td><span style=white-space:pre-wrap>  959</span></td></tr>\n",
       "\t<tr><td>&gt;50K                                      </td><td>Separated                                    </td><td><span style=white-space:pre-wrap>   66</span></td></tr>\n",
       "\t<tr><td>&lt;=50K                                         </td><td><span style=white-space:pre-wrap>Single   </span></td><td>10192                                            </td></tr>\n",
       "\t<tr><td>&gt;50K                                          </td><td><span style=white-space:pre-wrap>Single   </span></td><td><span style=white-space:pre-wrap>  491</span>    </td></tr>\n",
       "\t<tr><td>&lt;=50K                                         </td><td><span style=white-space:pre-wrap>Widowed  </span></td><td><span style=white-space:pre-wrap>  908</span>    </td></tr>\n",
       "\t<tr><td>&gt;50K                                          </td><td><span style=white-space:pre-wrap>Widowed  </span></td><td><span style=white-space:pre-wrap>   85</span>    </td></tr>\n",
       "</tbody>\n",
       "</table>\n"
      ],
      "text/latex": [
       "\\begin{tabular}{r|lll}\n",
       " income & marital\\_status & count\\\\\n",
       "\\hline\n",
       "\t <=50K     & Divorced  &  3980    \\\\\n",
       "\t >50K      & Divorced  &   463    \\\\\n",
       "\t <=50K     & Married   &  8681    \\\\\n",
       "\t >50K      & Married   &  6736    \\\\\n",
       "\t <=50K     & Separated &   959    \\\\\n",
       "\t >50K      & Separated &    66    \\\\\n",
       "\t <=50K     & Single    & 10192    \\\\\n",
       "\t >50K      & Single    &   491    \\\\\n",
       "\t <=50K     & Widowed   &   908    \\\\\n",
       "\t >50K      & Widowed   &    85    \\\\\n",
       "\\end{tabular}\n"
      ],
      "text/markdown": [
       "\n",
       "| income | marital_status | count |\n",
       "|---|---|---|\n",
       "| <=50K     | Divorced  |  3980     |\n",
       "| >50K      | Divorced  |   463     |\n",
       "| <=50K     | Married   |  8681     |\n",
       "| >50K      | Married   |  6736     |\n",
       "| <=50K     | Separated |   959     |\n",
       "| >50K      | Separated |    66     |\n",
       "| <=50K     | Single    | 10192     |\n",
       "| >50K      | Single    |   491     |\n",
       "| <=50K     | Widowed   |   908     |\n",
       "| >50K      | Widowed   |    85     |\n",
       "\n"
      ],
      "text/plain": [
       "   income marital_status count\n",
       "1  <=50K  Divorced        3980\n",
       "2  >50K   Divorced         463\n",
       "3  <=50K  Married         8681\n",
       "4  >50K   Married         6736\n",
       "5  <=50K  Separated        959\n",
       "6  >50K   Separated         66\n",
       "7  <=50K  Single         10192\n",
       "8  >50K   Single           491\n",
       "9  <=50K  Widowed          908\n",
       "10 >50K   Widowed           85"
      ]
     },
     "metadata": {},
     "output_type": "display_data"
    }
   ],
   "source": [
    "df3 <- data.frame(table(adult$income, adult$marital_status))\n",
    "names(df3) <- c('income', 'marital_status', 'count')\n",
    "df3"
   ]
  },
  {
   "cell_type": "code",
   "execution_count": 21,
   "metadata": {
    "scrolled": false
   },
   "outputs": [
    {
     "data": {
      "image/png": "[encoded data removed]",
      "text/plain": [
       "plot without title"
      ]
     },
     "metadata": {},
     "output_type": "display_data"
    }
   ],
   "source": [
    "# calculate the percentages\n",
    "df3 <- ddply(df3, .(marital_status), transform, percent = count/sum(count) * 100)\n",
    "\n",
    "# bar plot of counts by marital status with in group proportions \n",
    "ggplot(df3, aes(x = marital_status, y = count, fill = income)) +\n",
    "  geom_bar(stat = \"identity\") + \n",
    "  ggtitle('Income Level with Marital Status')"
   ]
  },
  {
   "cell_type": "code",
   "execution_count": null,
   "metadata": {},
   "outputs": [],
   "source": []
  }
 ],
 "metadata": {
  "kernelspec": {
   "display_name": "R",
   "language": "R",
   "name": "ir"
  },
  "language_info": {
   "codemirror_mode": "r",
   "file_extension": ".r",
   "mimetype": "text/x-r-source",
   "name": "R",
   "pygments_lexer": "r",
   "version": "3.6.1"
  }
 },
 "nbformat": 4,
 "nbformat_minor": 4
}
