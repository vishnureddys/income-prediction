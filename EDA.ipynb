{
 "cells": [
  {
   "cell_type": "markdown",
   "metadata": {},
   "source": [
    "### Importing the data"
   ]
  },
  {
   "cell_type": "code",
   "execution_count": 6,
   "metadata": {},
   "outputs": [],
   "source": [
    "adult <- read.table('https://archive.ics.uci.edu/ml/machine-learning-databases/adult/adult.data', \n",
    "                    sep = ',', fill = F, strip.white = T)\n",
    "colnames(adult) <- c('age', 'workclass', 'fnlwgt', 'education', \n",
    "                     'education_num', 'marital_status', 'occupation', 'relationship', 'race', 'sex', \n",
    "                     'capital_gain', 'capital_loss', 'hours_per_week', 'native_country', 'income')"
   ]
  },
  {
   "cell_type": "markdown",
   "metadata": {},
   "source": [
    "### Removing redundant columns"
   ]
  },
  {
   "cell_type": "code",
   "execution_count": 7,
   "metadata": {},
   "outputs": [],
   "source": [
    "adult$education <- NULL\n",
    "adult$fnlwgt <- NULL\n",
    "adult$relationship <- NULL"
   ]
  },
  {
   "cell_type": "code",
   "execution_count": 8,
   "metadata": {},
   "outputs": [
    {
     "data": {
      "text/html": [
       "<table>\n",
       "<thead><tr><th scope=col>age</th><th scope=col>workclass</th><th scope=col>education_num</th><th scope=col>marital_status</th><th scope=col>occupation</th><th scope=col>race</th><th scope=col>sex</th><th scope=col>capital_gain</th><th scope=col>capital_loss</th><th scope=col>hours_per_week</th><th scope=col>native_country</th><th scope=col>income</th></tr></thead>\n",
       "<tbody>\n",
       "\t<tr><td>39                                                        </td><td><span style=white-space:pre-wrap>State-gov       </span>  </td><td>13                                                        </td><td><span style=white-space:pre-wrap>Never-married     </span></td><td><span style=white-space:pre-wrap>Adm-clerical     </span> </td><td>White                                                     </td><td><span style=white-space:pre-wrap>Male  </span>            </td><td>2174                                                      </td><td>0                                                         </td><td>40                                                        </td><td>United-States                                             </td><td>&lt;=50K                                                  </td></tr>\n",
       "\t<tr><td>50                                                       </td><td>Self-emp-not-inc                                         </td><td>13                                                       </td><td>Married-civ-spouse                                       </td><td><span style=white-space:pre-wrap>Exec-managerial  </span></td><td>White                                                    </td><td><span style=white-space:pre-wrap>Male  </span>           </td><td><span style=white-space:pre-wrap>   0</span>             </td><td>0                                                        </td><td>13                                                       </td><td>United-States                                            </td><td>&lt;=50K                                                 </td></tr>\n",
       "\t<tr><td>38                                                        </td><td><span style=white-space:pre-wrap>Private         </span>  </td><td> 9                                                        </td><td><span style=white-space:pre-wrap>Divorced          </span></td><td>Handlers-cleaners                                         </td><td>White                                                     </td><td><span style=white-space:pre-wrap>Male  </span>            </td><td><span style=white-space:pre-wrap>   0</span>              </td><td>0                                                         </td><td>40                                                        </td><td>United-States                                             </td><td>&lt;=50K                                                  </td></tr>\n",
       "\t<tr><td>53                                                      </td><td><span style=white-space:pre-wrap>Private         </span></td><td> 7                                                      </td><td>Married-civ-spouse                                      </td><td>Handlers-cleaners                                       </td><td>Black                                                   </td><td><span style=white-space:pre-wrap>Male  </span>          </td><td><span style=white-space:pre-wrap>   0</span>            </td><td>0                                                       </td><td>40                                                      </td><td>United-States                                           </td><td>&lt;=50K                                                </td></tr>\n",
       "\t<tr><td>28                                                       </td><td><span style=white-space:pre-wrap>Private         </span> </td><td>13                                                       </td><td>Married-civ-spouse                                       </td><td><span style=white-space:pre-wrap>Prof-specialty   </span></td><td>Black                                                    </td><td>Female                                                   </td><td><span style=white-space:pre-wrap>   0</span>             </td><td>0                                                        </td><td>40                                                       </td><td><span style=white-space:pre-wrap>Cuba         </span>    </td><td>&lt;=50K                                                 </td></tr>\n",
       "\t<tr><td>37                                                       </td><td><span style=white-space:pre-wrap>Private         </span> </td><td>14                                                       </td><td>Married-civ-spouse                                       </td><td><span style=white-space:pre-wrap>Exec-managerial  </span></td><td>White                                                    </td><td>Female                                                   </td><td><span style=white-space:pre-wrap>   0</span>             </td><td>0                                                        </td><td>40                                                       </td><td>United-States                                            </td><td>&lt;=50K                                                 </td></tr>\n",
       "</tbody>\n",
       "</table>\n"
      ],
      "text/latex": [
       "\\begin{tabular}{r|llllllllllll}\n",
       " age & workclass & education\\_num & marital\\_status & occupation & race & sex & capital\\_gain & capital\\_loss & hours\\_per\\_week & native\\_country & income\\\\\n",
       "\\hline\n",
       "\t 39                 & State-gov          & 13                 & Never-married      & Adm-clerical       & White              & Male               & 2174               & 0                  & 40                 & United-States      & <=50K             \\\\\n",
       "\t 50                 & Self-emp-not-inc   & 13                 & Married-civ-spouse & Exec-managerial    & White              & Male               &    0               & 0                  & 13                 & United-States      & <=50K             \\\\\n",
       "\t 38                 & Private            &  9                 & Divorced           & Handlers-cleaners  & White              & Male               &    0               & 0                  & 40                 & United-States      & <=50K             \\\\\n",
       "\t 53                 & Private            &  7                 & Married-civ-spouse & Handlers-cleaners  & Black              & Male               &    0               & 0                  & 40                 & United-States      & <=50K             \\\\\n",
       "\t 28                 & Private            & 13                 & Married-civ-spouse & Prof-specialty     & Black              & Female             &    0               & 0                  & 40                 & Cuba               & <=50K             \\\\\n",
       "\t 37                 & Private            & 14                 & Married-civ-spouse & Exec-managerial    & White              & Female             &    0               & 0                  & 40                 & United-States      & <=50K             \\\\\n",
       "\\end{tabular}\n"
      ],
      "text/markdown": [
       "\n",
       "| age | workclass | education_num | marital_status | occupation | race | sex | capital_gain | capital_loss | hours_per_week | native_country | income |\n",
       "|---|---|---|---|---|---|---|---|---|---|---|---|\n",
       "| 39                 | State-gov          | 13                 | Never-married      | Adm-clerical       | White              | Male               | 2174               | 0                  | 40                 | United-States      | <=50K              |\n",
       "| 50                 | Self-emp-not-inc   | 13                 | Married-civ-spouse | Exec-managerial    | White              | Male               |    0               | 0                  | 13                 | United-States      | <=50K              |\n",
       "| 38                 | Private            |  9                 | Divorced           | Handlers-cleaners  | White              | Male               |    0               | 0                  | 40                 | United-States      | <=50K              |\n",
       "| 53                 | Private            |  7                 | Married-civ-spouse | Handlers-cleaners  | Black              | Male               |    0               | 0                  | 40                 | United-States      | <=50K              |\n",
       "| 28                 | Private            | 13                 | Married-civ-spouse | Prof-specialty     | Black              | Female             |    0               | 0                  | 40                 | Cuba               | <=50K              |\n",
       "| 37                 | Private            | 14                 | Married-civ-spouse | Exec-managerial    | White              | Female             |    0               | 0                  | 40                 | United-States      | <=50K              |\n",
       "\n"
      ],
      "text/plain": [
       "  age workclass        education_num marital_status     occupation        race \n",
       "1 39  State-gov        13            Never-married      Adm-clerical      White\n",
       "2 50  Self-emp-not-inc 13            Married-civ-spouse Exec-managerial   White\n",
       "3 38  Private           9            Divorced           Handlers-cleaners White\n",
       "4 53  Private           7            Married-civ-spouse Handlers-cleaners Black\n",
       "5 28  Private          13            Married-civ-spouse Prof-specialty    Black\n",
       "6 37  Private          14            Married-civ-spouse Exec-managerial   White\n",
       "  sex    capital_gain capital_loss hours_per_week native_country income\n",
       "1 Male   2174         0            40             United-States  <=50K \n",
       "2 Male      0         0            13             United-States  <=50K \n",
       "3 Male      0         0            40             United-States  <=50K \n",
       "4 Male      0         0            40             United-States  <=50K \n",
       "5 Female    0         0            40             Cuba           <=50K \n",
       "6 Female    0         0            40             United-States  <=50K "
      ]
     },
     "metadata": {},
     "output_type": "display_data"
    }
   ],
   "source": [
    "head(adult)"
   ]
  },
  {
   "cell_type": "markdown",
   "metadata": {},
   "source": [
    "### Analyzing each column with the income"
   ]
  },
  {
   "cell_type": "code",
   "execution_count": 9,
   "metadata": {},
   "outputs": [],
   "source": [
    "# Importing the libraries needed for this\n",
    "library(ggplot2)\n",
    "library(plyr)"
   ]
  },
  {
   "cell_type": "markdown",
   "metadata": {},
   "source": [
    "### Age vs Income"
   ]
  },
  {
   "cell_type": "code",
   "execution_count": 10,
   "metadata": {},
   "outputs": [
    {
     "data": {
      "image/png": "[encoded data removed]",
      "text/plain": [
       "plot without title"
      ]
     },
     "metadata": {},
     "output_type": "display_data"
    }
   ],
   "source": [
    "ggplot(adult) + aes(x=as.numeric(age), group=income, fill=income) + \n",
    "  geom_histogram(binwidth=1, color='black')"
   ]
  },
  {
   "cell_type": "markdown",
   "metadata": {},
   "source": [
    "### Gender vs Income"
   ]
  },
  {
   "cell_type": "code",
   "execution_count": 11,
   "metadata": {},
   "outputs": [
    {
     "data": {
      "image/png": "[encoded data removed]",
      "text/plain": [
       "plot without title"
      ]
     },
     "metadata": {},
     "output_type": "display_data"
    }
   ],
   "source": [
    "ggplot(adult) + aes(x=as.numeric(age), group=sex, fill=sex) + \n",
    "  geom_histogram(binwidth=1, color='black')"
   ]
  },
  {
   "cell_type": "code",
   "execution_count": null,
   "metadata": {},
   "outputs": [],
   "source": []
  }
 ],
 "metadata": {
  "kernelspec": {
   "display_name": "R",
   "language": "R",
   "name": "ir"
  },
  "language_info": {
   "codemirror_mode": "r",
   "file_extension": ".r",
   "mimetype": "text/x-r-source",
   "name": "R",
   "pygments_lexer": "r",
   "version": "3.6.1"
  }
 },
 "nbformat": 4,
 "nbformat_minor": 4
}
